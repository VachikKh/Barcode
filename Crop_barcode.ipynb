{
 "cells": [
  {
   "cell_type": "code",
   "execution_count": 2,
   "metadata": {},
   "outputs": [],
   "source": [
    "from pyzbar import pyzbar\n",
    "import cv2"
   ]
  },
  {
   "cell_type": "code",
   "execution_count": 5,
   "metadata": {},
   "outputs": [],
   "source": [
    "image = cv2.imread(\"screenshot_barcode.png\")\n",
    "# find the barcodes in the image and decode each of the barcodes\n",
    "barcodes = pyzbar.decode(image)"
   ]
  },
  {
   "cell_type": "code",
   "execution_count": 6,
   "metadata": {},
   "outputs": [
    {
     "data": {
      "text/plain": [
       "[Decoded(data=b'4260218091795', type='EAN13', rect=Rect(left=275, top=217, width=285, height=129), polygon=[Point(x=275, y=217), Point(x=275, y=345), Point(x=422, y=346), Point(x=560, y=346), Point(x=560, y=218)])]"
      ]
     },
     "execution_count": 6,
     "metadata": {},
     "output_type": "execute_result"
    }
   ],
   "source": [
    "barcodes"
   ]
  },
  {
   "cell_type": "code",
   "execution_count": null,
   "metadata": {},
   "outputs": [
    {
     "name": "stdout",
     "output_type": "stream",
     "text": [
      "[INFO] Found EAN13 barcode: 4260218091795\n"
     ]
    }
   ],
   "source": [
    "for barcode in barcodes:\n",
    "    # extract the bounding box location of the barcode and draw the\n",
    "    # bounding box surrounding the barcode on the image\n",
    "    (x, y, w, h) = barcode.rect\n",
    "    x -= w//10\n",
    "    y -= h//7\n",
    "    w += w//5\n",
    "    h += h//3\n",
    "    cv2.rectangle(image, (x, y), (x + w, y + h), (0, 0, 255), 2)\n",
    "\n",
    "    # the barcode data is a bytes object so if we want to draw it on\n",
    "    # our output image we need to convert it to a string first\n",
    "    barcodeData = barcode.data.decode(\"utf-8\")\n",
    "    barcodeType = barcode.type\n",
    "\n",
    "    # draw the barcode data and barcode type on the image\n",
    "    text = \"{} ({})\".format(barcodeData, barcodeType)\n",
    "    cv2.putText(image, text, (x, y - 10), cv2.FONT_HERSHEY_SIMPLEX,\n",
    "        0.5, (0, 0, 255), 2)\n",
    "\n",
    "    # print the barcode type and data to the terminal\n",
    "    print(\"[INFO] Found {} barcode: {}\".format(barcodeType, barcodeData))\n",
    "\n",
    "# show the output image\n",
    "cv2.imshow(\"Image\", image)\n",
    "cv2.waitKey(0)"
   ]
  },
  {
   "cell_type": "code",
   "execution_count": null,
   "metadata": {},
   "outputs": [],
   "source": []
  }
 ],
 "metadata": {
  "kernelspec": {
   "display_name": "Python 3",
   "language": "python",
   "name": "python3"
  },
  "language_info": {
   "codemirror_mode": {
    "name": "ipython",
    "version": 3
   },
   "file_extension": ".py",
   "mimetype": "text/x-python",
   "name": "python",
   "nbconvert_exporter": "python",
   "pygments_lexer": "ipython3",
   "version": "3.6.8"
  }
 },
 "nbformat": 4,
 "nbformat_minor": 2
}
